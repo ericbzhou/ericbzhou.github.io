{
 "cells": [
  {
   "cell_type": "code",
   "execution_count": 1,
   "metadata": {},
   "outputs": [],
   "source": [
    "import json"
   ]
  },
  {
   "cell_type": "code",
   "execution_count": null,
   "metadata": {},
   "outputs": [],
   "source": [
    "html_elements = []\n",
    "\n",
    "html_header = \"\"\"\n",
    "<!DOCTYPE html>\n",
    "<html>\n",
    "    <head>\n",
    "        <link rel=\"stylesheet\" href=\"cv_assets/cv_style.css\">\n",
    "        <link rel=\"stylesheet\" href=\"./academicons.css\">\n",
    "        <meta name=\"viewport\" content=\"width=device-width, initial-scale=1.0\">\n",
    "    </head>\n",
    "\"\"\"\n",
    "\n",
    "html_footer = \"\"\"\n",
    "</html>\n",
    "\"\"\"\n",
    "\n",
    "html_elements.append(html_header)"
   ]
  },
  {
   "cell_type": "code",
   "execution_count": 15,
   "metadata": {},
   "outputs": [],
   "source": [
    "data = json.loads(open('cv_assets/cv.json').read())[\"cv\"]"
   ]
  },
  {
   "cell_type": "code",
   "execution_count": 36,
   "metadata": {},
   "outputs": [],
   "source": [
    "def generateInformation(data):\n",
    "    html = '<div class=\"information\">'\n",
    "    html += f'  <span class=\"name\">{data[\"name\"]}</span>'\n",
    "    html += '  <ul class=\"contact-list\">'\n",
    "    for key, value in data.items():\n",
    "        if key in [\"email\", \"linkedin\", \"googlescholar\"]:\n",
    "            html += f'    <li><a href=\"{value}\" target=\"_blank\">{key}</a></li>'\n",
    "    html += '  </ul>'\n",
    "    html += f'  <p>{data[\"citizenship\"]}</p>'\n",
    "    html += '</div>'\n",
    "    return html"
   ]
  },
  {
   "cell_type": "code",
   "execution_count": 37,
   "metadata": {},
   "outputs": [],
   "source": [
    "# general information\n",
    "information = generateInformation(data['information'])"
   ]
  },
  {
   "cell_type": "code",
   "execution_count": 38,
   "metadata": {},
   "outputs": [
    {
     "data": {
      "text/plain": [
       "'<div class=\"information\">\\n  <h1>Eric B. Zhou</h1>\\n  <ul class=\"contact-list\">\\n    <li><a href=\"ericbzhou0513@gmail.com\" target=\"_blank\">email</a></li>\\n    <li><a href=\"https://www.linkedin.com/in/ericbzhou/\" target=\"_blank\">linkedin</a></li>\\n    <li><a href=\"https://scholar.google.com/citations?user=gP3giFAAAAAJ&hl=en\" target=\"_blank\">googlescholar</a></li>\\n  </ul>\\n  <p>United States Citizen</p>\\n</div>'"
      ]
     },
     "execution_count": 38,
     "metadata": {},
     "output_type": "execute_result"
    }
   ],
   "source": [
    "# format html\n",
    "information"
   ]
  }
 ],
 "metadata": {
  "kernelspec": {
   "display_name": "causal",
   "language": "python",
   "name": "python3"
  },
  "language_info": {
   "codemirror_mode": {
    "name": "ipython",
    "version": 3
   },
   "file_extension": ".py",
   "mimetype": "text/x-python",
   "name": "python",
   "nbconvert_exporter": "python",
   "pygments_lexer": "ipython3",
   "version": "3.10.13"
  }
 },
 "nbformat": 4,
 "nbformat_minor": 2
}
