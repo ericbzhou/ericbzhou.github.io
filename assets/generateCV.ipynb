{
 "cells": [
  {
   "cell_type": "code",
   "execution_count": 1,
   "metadata": {},
   "outputs": [],
   "source": [
    "import json"
   ]
  },
  {
   "cell_type": "code",
   "execution_count": 2,
   "metadata": {},
   "outputs": [],
   "source": [
    "html_elements = []\n",
    "\n",
    "html_header = \"\"\"\n",
    "<!DOCTYPE html>\n",
    "<html>\n",
    "    <head>\n",
    "        <link rel=\"stylesheet\" href=\"cv_assets/cv_style.css\">\n",
    "        <link rel=\"stylesheet\" href=\"./academicons.css\">\n",
    "        <meta name=\"viewport\" content=\"width=device-width, initial-scale=1.0\">\n",
    "    </head>\n",
    "\"\"\"\n",
    "\n",
    "html_footer = \"\"\"\n",
    "</html>\n",
    "\"\"\"\n",
    "\n",
    "html_elements.append(html_header)"
   ]
  },
  {
   "cell_type": "code",
   "execution_count": 21,
   "metadata": {},
   "outputs": [],
   "source": [
    "data = json.loads(open('cv_assets/cv.json').read())[\"cv\"]"
   ]
  },
  {
   "cell_type": "code",
   "execution_count": 12,
   "metadata": {},
   "outputs": [
    {
     "name": "stdout",
     "output_type": "stream",
     "text": [
      "<div class=\"information\">  <span class=\"name\">Eric B. Zhou</span>  <p class=\"contact-information\">    <i class=\"fa-regular fa-envelope\"></i> <a href=\"mailto:ericbzhou0513@gmail.com\">ericbzhou0513@gmail.com</a> |     <i class=\"fa-brands fa-linkedin-in\"></i> <a href=\"https://www.linkedin.com/in/ericbzhou/\" target=\"_blank\">LinkedIn</a> |     <i class=\"ai ai-google-scholar-square\"></i> <a href=\"https://scholar.google.com/citations?user=gP3giFAAAAAJ&hl=en\" target=\"_blank\">Google Scholar</a>  </p>  <p>United States Citizen</p></div>\n"
     ]
    }
   ],
   "source": [
    "def generate_information(data):\n",
    "    \"\"\"\n",
    "    Generates the HTML string for the information section.\n",
    "\n",
    "    Args:\n",
    "        data: The dictionary containing the information data.\n",
    "\n",
    "    Returns:\n",
    "        The generated HTML string.\n",
    "    \"\"\"\n",
    "    html = '<div class=\"information\">'\n",
    "    html += f'  <span class=\"name\">{data[\"name\"]}</span>'\n",
    "    html += '  <p class=\"contact-information\">'\n",
    "    for key, value in data.items():\n",
    "        if key in [\"email\", \"linkedin\", \"googlescholar\"]:\n",
    "            icon_class = {\n",
    "                \"email\": \"fa-regular fa-envelope\",\n",
    "                \"linkedin\": \"fa-brands fa-linkedin-in\",\n",
    "                \"googlescholar\": \"ai ai-google-scholar-square\",\n",
    "            }[key]\n",
    "            if key == \"email\":\n",
    "                html += f'    <i class=\"{icon_class}\"></i> <a href=\"mailto:{value}\">{value}</a>'\n",
    "            if key == \"linkedin\":\n",
    "                html += f'    <i class=\"{icon_class}\"></i> <a href=\"{value}\" target=\"_blank\">LinkedIn</a>'\n",
    "            if key == \"googlescholar\":\n",
    "                html += f'    <i class=\"{icon_class}\"></i> <a href=\"{value}\" target=\"_blank\">Google Scholar</a>'\n",
    "            if key != \"googlescholar\":\n",
    "                html += ' | '\n",
    "    html += '  </p>'\n",
    "    html += f'  <p>{data[\"citizenship\"]}</p>'\n",
    "    html += '</div>'\n",
    "    html = html.replace(\"\\n\", \"\")\n",
    "    return html\n",
    "\n",
    "\n",
    "information = generate_information(data[\"information\"])\n",
    "\n",
    "print(information)\n"
   ]
  },
  {
   "cell_type": "code",
   "execution_count": 26,
   "metadata": {},
   "outputs": [
    {
     "name": "stdout",
     "output_type": "stream",
     "text": [
      "<h2>Education</h2><hr/><div class=\"education-item\">  <p><span class=\"school\">Boston University Questrom School of Business</span><span class=\"location\">(Boston, MA)</span></p>  <p><b>Ph.D. in Information Systems</b> (<span class=\"start-end\">2023-Expected 2026</span>)</p>  <p class=\"notes\">Advised by Dokyun Lee</p></div><div class=\"education-item\">  <p><span class=\"school\">Washington University in St. Louis Olin Business School</span><span class=\"location\">(St. Louis, MO)</span></p>  <p><b>Master of Science in Business Administration</b> (<span class=\"start-end\">2021-2023</span>)</p></div><div class=\"education-item\">  <p><span class=\"school\">Carnegie Mellon University Tepper School of Business</span><span class=\"location\">(Pittsburgh, PA)</span></p>  <p><b>Master of Business Administration</b> (<span class=\"start-end\">2019-2021</span>)</p>  <p class=\"majors\">Majors in Business Technologies and Operations Research</p>  <p class=\"notes\">Business Analytics Track</p></div><div class=\"education-item\">  <p><span class=\"school\">Washington University in St. Louis Olin Business School</span><span class=\"location\">(St. Louis, MO)</span></p>  <p><b>Bachelor of Science in Business Administration</b> (<span class=\"start-end\">2014-2018</span>)</p>  <p class=\"majors\">Majors in Marketing and Finance</p></div>\n"
     ]
    }
   ],
   "source": [
    "def generate_education(data):\n",
    "    \"\"\"\n",
    "    Generates the HTML string for the education section.\n",
    "\n",
    "    Args:\n",
    "        data: A list of dictionaries containing education information.\n",
    "\n",
    "    Returns:\n",
    "        The generated HTML string.\n",
    "    \"\"\"\n",
    "    html = f'<h2>Education</h2><hr/>'\n",
    "    for item in data:\n",
    "        html += f'<div class=\"education-item\">'\n",
    "        html += f'  <p><span class=\"school\">{item[\"school\"]}</span><span class=\"location\">{item[\"location\"]}</span></p>'\n",
    "        html += f'  <p><b>{item[\"name\"]}</b> <span class=\"start-end\">{item[\"start\"]}-{item[\"end\"]}</span></p>'\n",
    "        if \"majors\" in item:\n",
    "            html += f'  <p class=\"majors\">Majors in {item[\"majors\"][0]} and {item[\"majors\"][1]}</p>'\n",
    "        for key, value in item.items():\n",
    "            if key in [\"school\", \"location\", \"name\", \"start\", \"end\", \"majors\", \"notes\"]:\n",
    "                continue\n",
    "            html += f'  <p style=\"text-align: left; font-style: italic;\">{key}: {value}</p>'\n",
    "        if \"notes\" in item:\n",
    "            html += f'  <p class=\"notes\">{item[\"notes\"]}</p>'\n",
    "        html += '</div>'\n",
    "    return html\n",
    "\n",
    "\n",
    "education = generate_education(data[\"education\"])\n",
    "print(education)"
   ]
  },
  {
   "cell_type": "code",
   "execution_count": 18,
   "metadata": {},
   "outputs": [
    {
     "data": {
      "text/plain": [
       "[{'name': 'Ph.D. in Information Systems',\n",
       "  'school': 'Boston University Questrom School of Business',\n",
       "  'location': 'Boston, MA',\n",
       "  'start': '2023',\n",
       "  'end': 'Expected 2026',\n",
       "  'notes': 'Advised by Dokyun Lee'},\n",
       " {'name': 'Master of Science in Business Administration',\n",
       "  'school': 'Washington University in St. Louis Olin Business School',\n",
       "  'location': 'St. Louis, MO',\n",
       "  'start': '2021',\n",
       "  'end': '2023'},\n",
       " {'name': 'Master of Business Administration',\n",
       "  'school': 'Carnegie Mellon University Tepper School of Business',\n",
       "  'location': 'Pittsburgh, PA',\n",
       "  'start': '2019',\n",
       "  'end': '2021',\n",
       "  'majors': ['Business Technologies', 'Operations Research'],\n",
       "  'notes': 'Business Analytics'},\n",
       " {'name': 'Bachelor of Science in Business Administration',\n",
       "  'school': 'Washington University in St. Louis Olin Business School',\n",
       "  'location': 'St. Louis, MO',\n",
       "  'start': '2014',\n",
       "  'end': '2018',\n",
       "  'majors': ['Marketing', 'Finance']}]"
      ]
     },
     "execution_count": 18,
     "metadata": {},
     "output_type": "execute_result"
    }
   ],
   "source": [
    "data['education']"
   ]
  }
 ],
 "metadata": {
  "kernelspec": {
   "display_name": "causal",
   "language": "python",
   "name": "python3"
  },
  "language_info": {
   "codemirror_mode": {
    "name": "ipython",
    "version": 3
   },
   "file_extension": ".py",
   "mimetype": "text/x-python",
   "name": "python",
   "nbconvert_exporter": "python",
   "pygments_lexer": "ipython3",
   "version": "3.10.11"
  }
 },
 "nbformat": 4,
 "nbformat_minor": 2
}
