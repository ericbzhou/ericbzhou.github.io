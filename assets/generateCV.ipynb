{
 "cells": [
  {
   "cell_type": "code",
   "execution_count": 1,
   "metadata": {},
   "outputs": [],
   "source": [
    "import json"
   ]
  },
  {
   "cell_type": "code",
   "execution_count": 2,
   "metadata": {},
   "outputs": [],
   "source": [
    "html_elements = []\n",
    "\n",
    "html_header = \"\"\"\n",
    "<!DOCTYPE html>\n",
    "<html>\n",
    "    <head>\n",
    "        <link rel=\"stylesheet\" href=\"cv_assets/cv_style.css\">\n",
    "        <link rel=\"stylesheet\" href=\"./academicons.css\">\n",
    "        <meta name=\"viewport\" content=\"width=device-width, initial-scale=1.0\">\n",
    "    </head>\n",
    "\"\"\"\n",
    "\n",
    "html_footer = \"\"\"\n",
    "</html>\n",
    "\"\"\"\n",
    "\n",
    "html_elements.append(html_header)"
   ]
  },
  {
   "cell_type": "code",
   "execution_count": 41,
   "metadata": {},
   "outputs": [],
   "source": [
    "data = json.loads(open('cv_assets/cv.json').read())[\"cv\"]"
   ]
  },
  {
   "cell_type": "code",
   "execution_count": 12,
   "metadata": {},
   "outputs": [
    {
     "name": "stdout",
     "output_type": "stream",
     "text": [
      "<div class=\"information\">  <span class=\"name\">Eric B. Zhou</span>  <p class=\"contact-information\">    <i class=\"fa-regular fa-envelope\"></i> <a href=\"mailto:ericbzhou0513@gmail.com\">ericbzhou0513@gmail.com</a> |     <i class=\"fa-brands fa-linkedin-in\"></i> <a href=\"https://www.linkedin.com/in/ericbzhou/\" target=\"_blank\">LinkedIn</a> |     <i class=\"ai ai-google-scholar-square\"></i> <a href=\"https://scholar.google.com/citations?user=gP3giFAAAAAJ&hl=en\" target=\"_blank\">Google Scholar</a>  </p>  <p>United States Citizen</p></div>\n"
     ]
    }
   ],
   "source": [
    "def generate_information(data):\n",
    "    \"\"\"\n",
    "    Generates the HTML string for the information section.\n",
    "\n",
    "    Args:\n",
    "        data: The dictionary containing the information data.\n",
    "\n",
    "    Returns:\n",
    "        The generated HTML string.\n",
    "    \"\"\"\n",
    "    html = '<div class=\"information\">'\n",
    "    html += f'  <span class=\"name\">{data[\"name\"]}</span>'\n",
    "    html += '  <p class=\"contact-information\">'\n",
    "    for key, value in data.items():\n",
    "        if key in [\"email\", \"linkedin\", \"googlescholar\"]:\n",
    "            icon_class = {\n",
    "                \"email\": \"fa-regular fa-envelope\",\n",
    "                \"linkedin\": \"fa-brands fa-linkedin-in\",\n",
    "                \"googlescholar\": \"ai ai-google-scholar-square\",\n",
    "            }[key]\n",
    "            if key == \"email\":\n",
    "                html += f'    <i class=\"{icon_class}\"></i> <a href=\"mailto:{value}\">{value}</a>'\n",
    "            if key == \"linkedin\":\n",
    "                html += f'    <i class=\"{icon_class}\"></i> <a href=\"{value}\" target=\"_blank\">LinkedIn</a>'\n",
    "            if key == \"googlescholar\":\n",
    "                html += f'    <i class=\"{icon_class}\"></i> <a href=\"{value}\" target=\"_blank\">Google Scholar</a>'\n",
    "            if key != \"googlescholar\":\n",
    "                html += ' | '\n",
    "    html += '  </span>'\n",
    "    html += f'  <span>{data[\"citizenship\"]}</span>'\n",
    "    html += '</div>'\n",
    "    html = html.replace(\"\\n\", \"\")\n",
    "    return html\n",
    "\n",
    "\n",
    "information = generate_information(data[\"information\"])\n",
    "\n",
    "print(information)\n"
   ]
  },
  {
   "cell_type": "code",
   "execution_count": 39,
   "metadata": {},
   "outputs": [
    {
     "name": "stdout",
     "output_type": "stream",
     "text": [
      "<h2>Education</h2><hr/><div class=\"education-item\">  <span><p class=\"start-align bold\">Boston University Questrom School of Business <span class=\"end-align\">Boston, MA</span></p></span>  <span><p class=\"start-align italic\">Ph.D. in Information Systems <span class=\"end-align\">2023 - Expected 2026</span></p></span>  <p class=\"start-align\">Advised by Dokyun Lee</p></div><div class=\"education-item\">  <span><p class=\"start-align bold\">Washington University in St. Louis Olin Business School <span class=\"end-align\">St. Louis, MO</span></p></span>  <span><p class=\"start-align italic\">Master of Science in Business Administration <span class=\"end-align\">2021 - 2023</span></p></span></div><div class=\"education-item\">  <span><p class=\"start-align bold\">Carnegie Mellon University Tepper School of Business <span class=\"end-align\">Pittsburgh, PA</span></p></span>  <span><p class=\"start-align italic\">Master of Business Administration <span class=\"end-align\">2019 - 2021</span></p></span>  <p class=\"start-align\">Concentrations in Business Technologies and Operations Research</p>  <p class=\"start-align\">Business Analytics Track</p></div><div class=\"education-item\">  <span><p class=\"start-align bold\">Washington University in St. Louis Olin Business School <span class=\"end-align\">St. Louis, MO</span></p></span>  <span><p class=\"start-align italic\">Bachelor of Science in Business Administration <span class=\"end-align\">2014 - 2018</span></p></span>  <p class=\"start-align\">Concentrations in Marketing and Finance</p></div>\n"
     ]
    }
   ],
   "source": [
    "def generate_education(data):\n",
    "    \"\"\"\n",
    "    Generates the HTML string for the education section.\n",
    "\n",
    "    Args:\n",
    "    data: A list of dictionaries containing education information.\n",
    "\n",
    "    Returns:\n",
    "    The generated HTML string.\n",
    "    \"\"\"\n",
    "    html = f'<h2>Education</h2><hr/>'\n",
    "    for item in data:\n",
    "        html += f'<div class=\"education-item\">'\n",
    "\n",
    "        # Combine school and location with desired classes\n",
    "        html += f'  <span><p class=\"start-align bold\">{item[\"school\"]} <span class=\"end-align\">{item[\"location\"]}</span></p></span>'\n",
    "\n",
    "        # Combine program name and start/end dates with desired classes\n",
    "        html += f'  <span><p class=\"start-align italic\">{item[\"name\"]} <span class=\"end-align\">{item[\"start\"]} - {item[\"end\"]}</span></p></span>'\n",
    "\n",
    "        if \"majors\" in item:\n",
    "            html += f'  <p class=\"start-align\">Concentrations in {item[\"majors\"][0]} and {item[\"majors\"][1]}</p>'\n",
    "        # Use existing logic for additional information, including notes\n",
    "        for key, _ in item.items():\n",
    "            if key == \"notes\":\n",
    "                html += f'  <p class=\"start-align\">{item[\"notes\"]}</p>'\n",
    "        html += '</div>'\n",
    "    return html\n",
    "\n",
    "education = generate_education(data[\"education\"])\n",
    "print(education)"
   ]
  },
  {
   "cell_type": "code",
   "execution_count": 42,
   "metadata": {},
   "outputs": [
    {
     "data": {
      "text/plain": [
       "[{'title': 'Human Incumbents vs. Generative Entrants',\n",
       "  'authors': '<u>Eric Zhou</u>, Dokyun Lee',\n",
       "  'status': {'stage': 'In Progress...', 'journal': ''},\n",
       "  'links': [],\n",
       "  'tags': [],\n",
       "  'abstract': '',\n",
       "  'conferences': []},\n",
       " {'title': 'New Generative AI project coming soon...',\n",
       "  'authors': 'Dokyun Lee, <u>Eric Zhou</u>',\n",
       "  'status': {'stage': 'In Progress...', 'journal': ''},\n",
       "  'links': [],\n",
       "  'tags': [],\n",
       "  'abstract': '',\n",
       "  'conferences': []},\n",
       " {'title': 'Generative AI, Human Creativity, and Art',\n",
       "  'authors': '<u>Eric Zhou</u>, Dokyun Lee',\n",
       "  'status': {'stage': 'Under review', 'journal': 'PNAS'},\n",
       "  'links': [{'site': 'SSRN',\n",
       "    'href': 'https://papers.ssrn.com/sol3/papers.cfm?abstract_id=4594824#paper-references-widget'}],\n",
       "  'tags': [],\n",
       "  'abstract': 'Recent artificial intelligence (AI) tools have demonstrated the ability to produce outputs traditionally considered creative. One such system is text-to-image generative AI (e.g., Midjourney, Stable Diffusion, DALL-E), which automates humans\\' artistic execution to generate digital artworks. Utilizing a dataset of over 4 million artworks from more than 50,000 unique users, our research shows that over time, text-to-image AI significantly enhances human creative productivity by 25% and increases the value as measured by the likelihood of receiving a favorite per view by 50%. While peak artwork content novelty, defined as focal subject matter and relations, increases over time, average content novelty declines, suggesting an expanding but inefficient idea space. Additionally, there is a consistent reduction in both peak and average visual novelty, captured by pixel-level stylistic elements. Importantly, AI-assisted artists who can successfully explore more novel ideas, regardless of their overall novelty prior to AI assistance, may produce artworks that their peers evaluate more favorably. Lastly, AI adoption decreased value capture (favorites earned) concentration among adopters. The results suggest that ideation and filtering are likely necessary skills in the text-to-image process, thus giving rise to \"generative synesthesia\" - the harmonious blending of human exploration and AI exploitation to discover new creative workflows.',\n",
       "  'conferences': [{'name': 'INFORMS Annual Meeting 2023',\n",
       "    'date': 'October 2023',\n",
       "    'location': 'Phoenix, Arizona'},\n",
       "   {'name': 'INFORMS Workshop on Data Science 2023',\n",
       "    'date': 'October 2023',\n",
       "    'location': 'Phoenix, Arizona'},\n",
       "   {'name': 'Wharton Generative AI & Business Workshop',\n",
       "    'date': 'September 2023',\n",
       "    'location': 'San Francisco, California'}]},\n",
       " {'title': 'Economics of Image-Based Seller Quality Signals',\n",
       "  'authors': '<u>Eric Zhou</u>, Xiang Hui, Dokyun Lee',\n",
       "  'status': {'stage': 'In progress...', 'journal': ''},\n",
       "  'tags': [],\n",
       "  'abstract': 'In online marketplaces, sellers can rely on alternative mechanisms to signal their quality when they lack rich transaction histories. Using scraped data on GPU sales from eBay, we find that certain image signals can substitute for reputation to increase conversion rates amongst sellers with less than 100% positive reputation, and conditional on making a sale, can realize a 5% price premium on average. However, the effects are only significant for less reputable sellers.',\n",
       "  'links': [],\n",
       "  'conferences': [{'name': 'WISE: Workshop on Information Systems and Economics',\n",
       "    'date': 'December 2022',\n",
       "    'location': 'Copenhagen, Denmark'}]}]"
      ]
     },
     "execution_count": 42,
     "metadata": {},
     "output_type": "execute_result"
    }
   ],
   "source": [
    "data['research']"
   ]
  }
 ],
 "metadata": {
  "kernelspec": {
   "display_name": "causal",
   "language": "python",
   "name": "python3"
  },
  "language_info": {
   "codemirror_mode": {
    "name": "ipython",
    "version": 3
   },
   "file_extension": ".py",
   "mimetype": "text/x-python",
   "name": "python",
   "nbconvert_exporter": "python",
   "pygments_lexer": "ipython3",
   "version": "3.10.11"
  }
 },
 "nbformat": 4,
 "nbformat_minor": 2
}
